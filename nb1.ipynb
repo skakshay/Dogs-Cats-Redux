{
 "cells": [
  {
   "cell_type": "code",
   "execution_count": 1,
   "metadata": {
    "ExecuteTime": {
     "end_time": "2018-01-22T11:10:10.354066Z",
     "start_time": "2018-01-22T11:10:07.796112Z"
    },
    "scrolled": true
   },
   "outputs": [
    {
     "name": "stderr",
     "output_type": "stream",
     "text": [
      "Using cuDNN version 5103 on context None\n",
      "Mapped name None to device cuda: Tesla K80 (0000:00:04.0)\n",
      "Using Theano backend.\n",
      "/home/akshay/anaconda2/envs/py35/lib/python3.5/site-packages/h5py/__init__.py:36: FutureWarning: Conversion of the second argument of issubdtype from `float` to `np.floating` is deprecated. In future, it will be treated as `np.float64 == np.dtype(float).type`.\n",
      "  from ._conv import register_converters as _register_converters\n"
     ]
    }
   ],
   "source": [
    "%matplotlib inline\n",
    "import sys, os, shutil\n",
    "from glob import glob\n",
    "import numpy as np\n",
    "from utils import *\n",
    "from vgg16 import Vgg16\n",
    "from PIL import Image\n",
    "from keras.preprocessing import image\n",
    "from sklearn.metrics import confusion_matrix\n",
    "from IPython.display import FileLink"
   ]
  },
  {
   "cell_type": "code",
   "execution_count": 2,
   "metadata": {
    "ExecuteTime": {
     "end_time": "2018-01-22T09:35:55.252022Z",
     "start_time": "2018-01-22T09:35:55.246734Z"
    }
   },
   "outputs": [],
   "source": [
    "DATA_DIR = '/home/akshay/workspace/data/redux/'\n",
    "val_path = DATA_DIR + 'valid/'\n",
    "train_path = DATA_DIR + 'train/'\n",
    "test_path = DATA_DIR + 'test/'\n",
    "results_path = DATA_DIR+ 'results/'"
   ]
  },
  {
   "cell_type": "code",
   "execution_count": 3,
   "metadata": {
    "ExecuteTime": {
     "end_time": "2018-01-22T08:30:55.378467Z",
     "start_time": "2018-01-22T08:30:55.139861Z"
    }
   },
   "outputs": [
    {
     "ename": "IndexError",
     "evalue": "index 0 is out of bounds for axis 0 with size 0",
     "output_type": "error",
     "traceback": [
      "\u001b[0;31m-------------------------------------------------------------------\u001b[0m",
      "\u001b[0;31mIndexError\u001b[0m                        Traceback (most recent call last)",
      "\u001b[0;32m<ipython-input-3-c1783faa5119>\u001b[0m in \u001b[0;36m<module>\u001b[0;34m()\u001b[0m\n\u001b[1;32m      2\u001b[0m \u001b[0mg\u001b[0m \u001b[0;34m=\u001b[0m \u001b[0mnp\u001b[0m\u001b[0;34m.\u001b[0m\u001b[0mrandom\u001b[0m\u001b[0;34m.\u001b[0m\u001b[0mpermutation\u001b[0m\u001b[0;34m(\u001b[0m\u001b[0mg\u001b[0m\u001b[0;34m)\u001b[0m\u001b[0;34m\u001b[0m\u001b[0m\n\u001b[1;32m      3\u001b[0m \u001b[0;32mfor\u001b[0m \u001b[0mi\u001b[0m \u001b[0;32min\u001b[0m \u001b[0mrange\u001b[0m\u001b[0;34m(\u001b[0m\u001b[0;36m2000\u001b[0m\u001b[0;34m)\u001b[0m\u001b[0;34m:\u001b[0m\u001b[0;34m\u001b[0m\u001b[0m\n\u001b[0;32m----> 4\u001b[0;31m     \u001b[0mshutil\u001b[0m\u001b[0;34m.\u001b[0m\u001b[0mmove\u001b[0m\u001b[0;34m(\u001b[0m\u001b[0mg\u001b[0m\u001b[0;34m[\u001b[0m\u001b[0mi\u001b[0m\u001b[0;34m]\u001b[0m\u001b[0;34m,\u001b[0m \u001b[0mval_path\u001b[0m\u001b[0;34m)\u001b[0m\u001b[0;34m\u001b[0m\u001b[0m\n\u001b[0m",
      "\u001b[0;31mIndexError\u001b[0m: index 0 is out of bounds for axis 0 with size 0"
     ]
    }
   ],
   "source": [
    "g = glob(train_path + '*.jpg')\n",
    "g = np.random.permutation(g)\n",
    "for i in range(2000):\n",
    "    shutil.move(g[i], val_path)"
   ]
  },
  {
   "cell_type": "code",
   "execution_count": 6,
   "metadata": {},
   "outputs": [],
   "source": [
    "g_cat = glob(train_path+'cat*.jpg')\n",
    "g_dog = glob(train_path+'dog*.jpg')\n",
    "for img in g_cat:\n",
    "    shutil.move(img, train_path+'cats/')\n",
    "for img in g_dog:\n",
    "    shutil.move(img, train_path+'dogs/')\n",
    "\n",
    "g_cat = glob(val_path+'cat*.jpg')\n",
    "g_dog = glob(val_path+'dog*.jpg')\n",
    "for img in g_cat:\n",
    "    shutil.move(img, val_path+'cats/')\n",
    "for img in g_dog:\n",
    "    shutil.move(img, val_path+'dogs')\n",
    "\n"
   ]
  },
  {
   "cell_type": "markdown",
   "metadata": {},
   "source": [
    "Now that we have organised our data lets finetune VGG16 model. \n",
    "\n",
    "## Finetune"
   ]
  },
  {
   "cell_type": "code",
   "execution_count": 4,
   "metadata": {
    "ExecuteTime": {
     "end_time": "2018-01-22T09:36:33.632382Z",
     "start_time": "2018-01-22T09:36:33.628158Z"
    }
   },
   "outputs": [],
   "source": [
    "batch_size=64\n",
    "no_epochs=5"
   ]
  },
  {
   "cell_type": "code",
   "execution_count": 5,
   "metadata": {
    "ExecuteTime": {
     "end_time": "2018-01-22T09:36:42.666824Z",
     "start_time": "2018-01-22T09:36:38.813962Z"
    }
   },
   "outputs": [
    {
     "name": "stdout",
     "output_type": "stream",
     "text": [
      "Found 23000 images belonging to 2 classes.\n",
      "Found 2000 images belonging to 2 classes.\n"
     ]
    }
   ],
   "source": [
    "vgg = Vgg16()\n",
    "train_batches = vgg.get_batches(train_path, batch_size=batch_size)\n",
    "val_batches = vgg.get_batches(val_path, batch_size=batch_size)\n",
    "vgg.finetune(train_batches)"
   ]
  },
  {
   "cell_type": "code",
   "execution_count": 6,
   "metadata": {
    "ExecuteTime": {
     "end_time": "2018-01-22T10:20:23.539550Z",
     "start_time": "2018-01-22T09:37:05.647868Z"
    }
   },
   "outputs": [
    {
     "name": "stdout",
     "output_type": "stream",
     "text": [
      "\n",
      "Running Epoch :  0\n",
      "Epoch 1/1\n",
      "23000/23000 [==============================] - 523s - loss: 0.1248 - acc: 0.9676 - val_loss: 0.0461 - val_acc: 0.9865\n",
      "\n",
      "Running Epoch :  1\n",
      "Epoch 1/1\n",
      "23000/23000 [==============================] - 510s - loss: 0.0962 - acc: 0.9772 - val_loss: 0.0674 - val_acc: 0.9835\n",
      "\n",
      "Running Epoch :  2\n",
      "Epoch 1/1\n",
      "23000/23000 [==============================] - 511s - loss: 0.0964 - acc: 0.9788 - val_loss: 0.0592 - val_acc: 0.9850\n",
      "\n",
      "Running Epoch :  3\n",
      "Epoch 1/1\n",
      "23000/23000 [==============================] - 511s - loss: 0.0928 - acc: 0.9795 - val_loss: 0.0639 - val_acc: 0.9855\n",
      "\n",
      "Running Epoch :  4\n",
      "Epoch 1/1\n",
      "23000/23000 [==============================] - 514s - loss: 0.0993 - acc: 0.9800 - val_loss: 0.0696 - val_acc: 0.9835\n",
      "Completed 5 fit operation\n",
      "\n"
     ]
    }
   ],
   "source": [
    "latest_weights_filename = None\n",
    "for epoch in range(no_epochs):\n",
    "    print (\"\\nRunning Epoch :  {0}\".format(epoch))\n",
    "    vgg.fit(train_batches, val_batches, nb_epoch=1)\n",
    "    latest_weights_filename = \"ft{0}.h5\".format(epoch)\n",
    "    vgg.model.save_weights(results_path+latest_weights_filename)\n",
    "print (\"Completed {0} fit operation\\n\".format(no_epochs))"
   ]
  },
  {
   "cell_type": "code",
   "execution_count": null,
   "metadata": {
    "ExecuteTime": {
     "start_time": "2018-01-22T10:43:15.266Z"
    }
   },
   "outputs": [
    {
     "name": "stdout",
     "output_type": "stream",
     "text": [
      "Epoch 0\n",
      "Found 12500 images belonging to 1 classes.\n",
      "Epoch 1\n",
      "Found 12500 images belonging to 1 classes.\n",
      "Epoch 2\n",
      "Found 12500 images belonging to 1 classes.\n"
     ]
    }
   ],
   "source": [
    "for epoch in range(no_epochs):\n",
    "    print (\"Epoch {0}\".format(epoch))\n",
    "    vgg.model.load_weights(filepath=results_path+'ft{0}.h5'.format(epoch))\n",
    "    test_batches, test_preds = vgg.test(test_path, batch_size=batch_size)\n",
    "    isdog = test_preds[:,1]\n",
    "    isdog = isdog.clip(min=0.05, max=0.95)\n",
    "    test_filenames = test_batches.filenames\n",
    "    test_file_ids = [int(f[8:-4]) for f in test_filenames]\n",
    "    subm = np.stack([test_file_ids, isdog], axis=1)\n",
    "    subm_filename = \"submission{0}.csv\".format(epoch)\n",
    "    np.savetxt(subm_filename, subm, fmt='%d,%0.5f', header='id,label', comments='')"
   ]
  },
  {
   "cell_type": "code",
   "execution_count": 5,
   "metadata": {
    "ExecuteTime": {
     "end_time": "2018-01-22T11:17:31.875541Z",
     "start_time": "2018-01-22T11:17:31.868673Z"
    }
   },
   "outputs": [
    {
     "data": {
      "text/html": [
       "<a href='submission3.csv' target='_blank'>submission3.csv</a><br>"
      ],
      "text/plain": [
       "/home/akshay/workspace/redux/submission3.csv"
      ]
     },
     "execution_count": 5,
     "metadata": {},
     "output_type": "execute_result"
    }
   ],
   "source": [
    "FileLink('submission3.csv')"
   ]
  },
  {
   "cell_type": "code",
   "execution_count": null,
   "metadata": {},
   "outputs": [],
   "source": []
  }
 ],
 "metadata": {
  "kernelspec": {
   "display_name": "Python 3",
   "language": "python",
   "name": "python3"
  },
  "language_info": {
   "codemirror_mode": {
    "name": "ipython",
    "version": 3
   },
   "file_extension": ".py",
   "mimetype": "text/x-python",
   "name": "python",
   "nbconvert_exporter": "python",
   "pygments_lexer": "ipython3",
   "version": "3.5.4"
  }
 },
 "nbformat": 4,
 "nbformat_minor": 2
}
